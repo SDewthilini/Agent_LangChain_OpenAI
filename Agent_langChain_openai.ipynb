{
  "nbformat": 4,
  "nbformat_minor": 0,
  "metadata": {
    "colab": {
      "provenance": [],
      "gpuType": "T4"
    },
    "kernelspec": {
      "name": "python3",
      "display_name": "Python 3"
    },
    "language_info": {
      "name": "python"
    },
    "accelerator": "GPU"
  },
  "cells": [
    {
      "cell_type": "markdown",
      "source": [
        "#LLM Agents with LangChain and OpenAI"
      ],
      "metadata": {
        "id": "-j96ik6QNuEq"
      }
    },
    {
      "cell_type": "code",
      "source": [
        "# Install the necessary packages\n",
        "!pip install langchain -qU\n",
        "!pip install langchain-openai -qU\n",
        "!pip install langchain-community -qU\n",
        "\n",
        "!pip install duckduckgo-search -qU\n",
        "!pip install pyowm -qU\n",
        "\n",
        "!pip install langchainhub -qU"
      ],
      "metadata": {
        "colab": {
          "base_uri": "https://localhost:8080/"
        },
        "id": "_HymsQ1UN0aj",
        "outputId": "520377e5-cf25-48e3-ae19-ce5a94e754ea"
      },
      "execution_count": 2,
      "outputs": [
        {
          "output_type": "stream",
          "name": "stdout",
          "text": [
            "\u001b[?25l   \u001b[90m━━━━━━━━━━━━━━━━━━━━━━━━━━━━━━━━━━━━━━━━\u001b[0m \u001b[32m0.0/1.0 MB\u001b[0m \u001b[31m?\u001b[0m eta \u001b[36m-:--:--\u001b[0m\r\u001b[2K   \u001b[91m━━━━━━━━━━━━━━━━━━━━━━━━━━\u001b[0m\u001b[90m╺\u001b[0m\u001b[90m━━━━━━━━━━━━━\u001b[0m \u001b[32m0.7/1.0 MB\u001b[0m \u001b[31m20.9 MB/s\u001b[0m eta \u001b[36m0:00:01\u001b[0m\r\u001b[2K   \u001b[90m━━━━━━━━━━━━━━━━━━━━━━━━━━━━━━━━━━━━━━━━\u001b[0m \u001b[32m1.0/1.0 MB\u001b[0m \u001b[31m19.8 MB/s\u001b[0m eta \u001b[36m0:00:00\u001b[0m\n",
            "\u001b[2K   \u001b[90m━━━━━━━━━━━━━━━━━━━━━━━━━━━━━━━━━━━━━━━━\u001b[0m \u001b[32m415.1/415.1 kB\u001b[0m \u001b[31m34.4 MB/s\u001b[0m eta \u001b[36m0:00:00\u001b[0m\n",
            "\u001b[2K   \u001b[90m━━━━━━━━━━━━━━━━━━━━━━━━━━━━━━━━━━━━━━━━\u001b[0m \u001b[32m55.3/55.3 kB\u001b[0m \u001b[31m3.2 MB/s\u001b[0m eta \u001b[36m0:00:00\u001b[0m\n",
            "\u001b[2K   \u001b[90m━━━━━━━━━━━━━━━━━━━━━━━━━━━━━━━━━━━━━━━━\u001b[0m \u001b[32m1.2/1.2 MB\u001b[0m \u001b[31m23.5 MB/s\u001b[0m eta \u001b[36m0:00:00\u001b[0m\n",
            "\u001b[2K   \u001b[90m━━━━━━━━━━━━━━━━━━━━━━━━━━━━━━━━━━━━━━━━\u001b[0m \u001b[32m2.5/2.5 MB\u001b[0m \u001b[31m41.8 MB/s\u001b[0m eta \u001b[36m0:00:00\u001b[0m\n",
            "\u001b[2K   \u001b[90m━━━━━━━━━━━━━━━━━━━━━━━━━━━━━━━━━━━━━━━━\u001b[0m \u001b[32m50.9/50.9 kB\u001b[0m \u001b[31m4.1 MB/s\u001b[0m eta \u001b[36m0:00:00\u001b[0m\n",
            "\u001b[2K   \u001b[90m━━━━━━━━━━━━━━━━━━━━━━━━━━━━━━━━━━━━━━━━\u001b[0m \u001b[32m3.3/3.3 MB\u001b[0m \u001b[31m48.7 MB/s\u001b[0m eta \u001b[36m0:00:00\u001b[0m\n",
            "\u001b[2K   \u001b[90m━━━━━━━━━━━━━━━━━━━━━━━━━━━━━━━━━━━━━━━━\u001b[0m \u001b[32m4.5/4.5 MB\u001b[0m \u001b[31m56.6 MB/s\u001b[0m eta \u001b[36m0:00:00\u001b[0m\n",
            "\u001b[?25h"
          ]
        }
      ]
    },
    {
      "cell_type": "code",
      "source": [
        "import os\n",
        "from google.colab import userdata"
      ],
      "metadata": {
        "id": "AlqmFH-3OeDM"
      },
      "execution_count": 3,
      "outputs": []
    },
    {
      "cell_type": "markdown",
      "source": [
        "#Initialize OPENAI LLM"
      ],
      "metadata": {
        "id": "G-E-REYzOoqT"
      }
    },
    {
      "cell_type": "code",
      "source": [
        "from langchain_openai import ChatOpenAI\n",
        "\n",
        "# Set OpenAI API key\n",
        "os.environ['OPENAI_API_KEY'] = userdata.get('OPENAI_API_KEY')\n",
        "\n",
        "# Initialize the ChatOpenAI model\n",
        "llm = ChatOpenAI(\n",
        "    model=\"gpt-3.5-turbo\",\n",
        "    temperature=0\n",
        ")\n",
        ""
      ],
      "metadata": {
        "id": "oYhg7BiyOyqn"
      },
      "execution_count": 4,
      "outputs": []
    },
    {
      "cell_type": "markdown",
      "source": [
        "#Initialize DuckDuckGo Search Tool"
      ],
      "metadata": {
        "id": "jiRwRh8tPAA9"
      }
    },
    {
      "cell_type": "code",
      "source": [
        "from langchain_community.tools import DuckDuckGoSearchRun\n",
        "\n",
        "# Initialize DuckDuckGo search tool\n",
        "search_tool = DuckDuckGoSearchRun()\n",
        "\n",
        "search_tool"
      ],
      "metadata": {
        "colab": {
          "base_uri": "https://localhost:8080/"
        },
        "id": "hk4tq-9UPEew",
        "outputId": "e983f457-13e9-4c30-a4d4-33a95babe464"
      },
      "execution_count": 5,
      "outputs": [
        {
          "output_type": "execute_result",
          "data": {
            "text/plain": [
              "DuckDuckGoSearchRun(api_wrapper=DuckDuckGoSearchAPIWrapper(region='wt-wt', safesearch='moderate', time='y', max_results=5, backend='auto', source='text'))"
            ]
          },
          "metadata": {},
          "execution_count": 5
        }
      ]
    },
    {
      "cell_type": "markdown",
      "source": [
        "#Initialize OpenWeatherMap Tool"
      ],
      "metadata": {
        "id": "iewENO1BPkim"
      }
    },
    {
      "cell_type": "code",
      "source": [
        "from langchain_community.utilities import OpenWeatherMapAPIWrapper\n",
        "from langchain.agents import load_tools\n",
        "\n",
        "os.environ[\"OPENWEATHERMAP_API_KEY\"] = userdata.get('OPENWEATHERMAP_API_KEY')\n",
        "\n",
        "# Initialize OpenWeatherMap tool\n",
        "weather = OpenWeatherMapAPIWrapper()\n",
        "\n",
        "weather_tool = load_tools([\"openweathermap-api\"], llm)[0]\n",
        "\n",
        "weather_tool"
      ],
      "metadata": {
        "colab": {
          "base_uri": "https://localhost:8080/"
        },
        "id": "995b_R15PoHX",
        "outputId": "9c2216f6-b1f9-4b2d-95b6-826be80c2b38"
      },
      "execution_count": 6,
      "outputs": [
        {
          "output_type": "execute_result",
          "data": {
            "text/plain": [
              "OpenWeatherMapQueryRun(api_wrapper=OpenWeatherMapAPIWrapper(owm=<pyowm.owm.OWM - API key=************************71a69bbe, subscription type=free, PyOWM version=(3, 3, 0)>, openweathermap_api_key=None))"
            ]
          },
          "metadata": {},
          "execution_count": 6
        }
      ]
    },
    {
      "cell_type": "markdown",
      "source": [
        "#Load Prompt Template from LangChainHub"
      ],
      "metadata": {
        "id": "0vsSulf6QMFO"
      }
    },
    {
      "cell_type": "code",
      "source": [
        "from langchain import hub\n",
        "\n",
        "# Pull the prompt template from LangChainHub\n",
        "prompt = hub.pull(\"hwchase17/react\")\n",
        "\n",
        "print(prompt)"
      ],
      "metadata": {
        "colab": {
          "base_uri": "https://localhost:8080/"
        },
        "id": "nWqqiRhrQNUM",
        "outputId": "f876359a-f401-42b7-9f4e-711a60b408dc"
      },
      "execution_count": 7,
      "outputs": [
        {
          "output_type": "stream",
          "name": "stdout",
          "text": [
            "input_variables=['agent_scratchpad', 'input', 'tool_names', 'tools'] input_types={} partial_variables={} metadata={'lc_hub_owner': 'hwchase17', 'lc_hub_repo': 'react', 'lc_hub_commit_hash': 'd15fe3c426f1c4b3f37c9198853e4a86e20c425ca7f4752ec0c9b0e97ca7ea4d'} template='Answer the following questions as best you can. You have access to the following tools:\\n\\n{tools}\\n\\nUse the following format:\\n\\nQuestion: the input question you must answer\\nThought: you should always think about what to do\\nAction: the action to take, should be one of [{tool_names}]\\nAction Input: the input to the action\\nObservation: the result of the action\\n... (this Thought/Action/Action Input/Observation can repeat N times)\\nThought: I now know the final answer\\nFinal Answer: the final answer to the original input question\\n\\nBegin!\\n\\nQuestion: {input}\\nThought:{agent_scratchpad}'\n"
          ]
        },
        {
          "output_type": "stream",
          "name": "stderr",
          "text": [
            "/usr/local/lib/python3.11/dist-packages/langsmith/client.py:253: LangSmithMissingAPIKeyWarning: API key must be provided when using hosted LangSmith API\n",
            "  warnings.warn(\n"
          ]
        }
      ]
    },
    {
      "cell_type": "markdown",
      "source": [
        "#Create Built-in Agent"
      ],
      "metadata": {
        "id": "X47BBfHlQfzk"
      }
    },
    {
      "cell_type": "code",
      "source": [
        "\n",
        "from langchain.agents import create_react_agent\n",
        "\n",
        "# List of tools for the agent\n",
        "tools = [search_tool, weather_tool]\n",
        "\n",
        "# Create the agent using the LLM and the prompt template\n",
        "agent = create_react_agent(tools = tools, llm = llm, prompt=prompt)\n",
        ""
      ],
      "metadata": {
        "id": "7OBgh_UWQnOI"
      },
      "execution_count": 8,
      "outputs": []
    },
    {
      "cell_type": "code",
      "source": [
        "from langchain.agents import AgentExecutor\n",
        "\n",
        "# Initialize the agent executor with the created agent and tools\n",
        "agent_executor = AgentExecutor(agent=agent, tools=tools, verbose=True, handle_parsing_errors=True)"
      ],
      "metadata": {
        "id": "2x_h_I1xQxSA"
      },
      "execution_count": 9,
      "outputs": []
    },
    {
      "cell_type": "markdown",
      "source": [
        "#Invoke the agent executor with an example question"
      ],
      "metadata": {
        "id": "KDaKYEFzR4Zo"
      }
    },
    {
      "cell_type": "code",
      "source": [
        "response = agent_executor.invoke({\"input\": \"What's the weather in Kandy?\"})\n",
        "\n",
        "print(response['output'])"
      ],
      "metadata": {
        "colab": {
          "base_uri": "https://localhost:8080/"
        },
        "id": "oI9edlfqR6LQ",
        "outputId": "fd273a7e-d867-4356-9031-50a6d3a8644e"
      },
      "execution_count": 10,
      "outputs": [
        {
          "output_type": "stream",
          "name": "stdout",
          "text": [
            "\n",
            "\n",
            "\u001b[1m> Entering new AgentExecutor chain...\u001b[0m\n",
            "\u001b[32;1m\u001b[1;3mI should use the open_weather_map tool to get the current weather in Kandy.\n",
            "Action: open_weather_map\n",
            "Action Input: Kandy\u001b[0m\u001b[33;1m\u001b[1;3mIn Kandy, the current weather is as follows:\n",
            "Detailed status: scattered clouds\n",
            "Wind speed: 0.67 m/s, direction: 50°\n",
            "Humidity: 34%\n",
            "Temperature: \n",
            "  - Current: 30.95°C\n",
            "  - High: 30.95°C\n",
            "  - Low: 30.95°C\n",
            "  - Feels like: 30.09°C\n",
            "Rain: {}\n",
            "Heat index: None\n",
            "Cloud cover: 33%\u001b[0m\u001b[32;1m\u001b[1;3mI now know the final answer\n",
            "Final Answer: The current weather in Kandy is scattered clouds with a temperature of 30.95°C.\u001b[0m\n",
            "\n",
            "\u001b[1m> Finished chain.\u001b[0m\n",
            "The current weather in Kandy is scattered clouds with a temperature of 30.95°C.\n"
          ]
        }
      ]
    },
    {
      "cell_type": "code",
      "source": [
        "response = agent_executor.invoke({\"input\": \"what is machine learning?\"})\n",
        "\n",
        "print(response['output'])"
      ],
      "metadata": {
        "colab": {
          "base_uri": "https://localhost:8080/"
        },
        "id": "N2Da_3okSeUU",
        "outputId": "d7035116-da37-477f-e15e-1372e1cf149b"
      },
      "execution_count": 10,
      "outputs": [
        {
          "output_type": "stream",
          "name": "stdout",
          "text": [
            "\n",
            "\n",
            "\u001b[1m> Entering new AgentExecutor chain...\u001b[0m\n",
            "\u001b[32;1m\u001b[1;3mI should search for a definition of machine learning to provide an accurate answer.\n",
            "Action: duckduckgo_search\n",
            "Action Input: machine learning definition\u001b[0m\u001b[36;1m\u001b[1;3mMachine learning is a crucial subset of artificial intelligence that enables algorithms to learn from data, make predictions, ... The definition of machine learning can be defined as that machine learning gives computers the ability to learn without being explicitly programmed. Also in 1997, Tom Mitchell defined machine learning that â€œA ... Learn what machine learning is, how it works, and the different types of algorithms and applications it uses. Explore real-world examples of machine learning in action and how to build your own skills with Coursera courses. Learn what machine learning is, how it works, and why it's important in 2023. Explore the types, applications, and career paths of this AI subfield with DataCamp. Learn machine learning, a subset of AI that enables computers to learn from data and make predictions without being explicitly programmed. Explore types, algorithms, tools, and applications of machine learning with examples and projects. The word Machine Learning was first coined by Arthur Samuel in 1959. The definition of machine learning can be defined as that machine learning gives computers the ability to learn without being explicitly programmed. Also in 1997, Tom Mitchell defined machine learning that â€œA computer program is sa\u001b[0m\u001b[32;1m\u001b[1;3mI have gathered enough information to provide a definition of machine learning.\n",
            "Final Answer: Machine learning is a subset of artificial intelligence that allows algorithms to learn from data and make predictions without being explicitly programmed.\u001b[0m\n",
            "\n",
            "\u001b[1m> Finished chain.\u001b[0m\n",
            "Machine learning is a subset of artificial intelligence that allows algorithms to learn from data and make predictions without being explicitly programmed.\n"
          ]
        }
      ]
    },
    {
      "cell_type": "code",
      "source": [
        "response = agent_executor.invoke({\"input\": \"how many words count within introduction to machine learning?\"})\n",
        "\n",
        "print(response['output'])\n",
        ""
      ],
      "metadata": {
        "colab": {
          "base_uri": "https://localhost:8080/"
        },
        "id": "hwwJ_Sg0S6KH",
        "outputId": "f18898bc-4598-4af7-c0d9-0fb2d42d0b4a"
      },
      "execution_count": 11,
      "outputs": [
        {
          "output_type": "stream",
          "name": "stdout",
          "text": [
            "\n",
            "\n",
            "\u001b[1m> Entering new AgentExecutor chain...\u001b[0m\n",
            "\u001b[32;1m\u001b[1;3mI should search for the introduction to machine learning to find out how many words it typically contains.\n",
            "Action: duckduckgo_search\n",
            "Action Input: \"introduction to machine learning word count\"\u001b[0m\u001b[36;1m\u001b[1;3mIntroduction: Word count is a classic problem used to introduce big data processing, and in this article, ... Practical Guides to Machine Learning. 10 stories ... Bag of Words just creates a set of vectors containing the count of word occurrences in the document (reviews), while the TF-IDF model contains information on the more important words and the less important ones as well. Bag of Words vectors are easy to interpret. However, TF-IDF usually performs better in machine learning models. The word Machine Learning was first coined by Arthur Samuel in 1959. The definition of machine learning can be defined as that machine learning gives computers the ability to learn without being explicitly programmed. Also in 1997, Tom Mitchell defined machine learning that â€œA computer program is sa If you're new to this field, this tutorial will provide a comprehensive understanding of machine learning, its types, algorithms, tools, and practical applications. Module 1: Introduction to Machine Learning. Machine learning teaches computers to recognize patterns and make decisions automatically using data and algorithms. Limitations of TF Alone: TF does not account for the global importance of a term across the entire corpus. Common words like \"the\" or \"and\" may have high TF scores but are not meaningful in distinguishing documents. Inverse Document Frequency (IDF): Reduces the weight of common words across multiple documents while increasing the weight of rare words.\u001b[0m\u001b[32;1m\u001b[1;3mI need to find the specific word count mentioned in the introduction to machine learning.\n",
            "Action: duckduckgo_search\n",
            "Action Input: \"introduction to machine learning word count specific\"\u001b[0m\u001b[36;1m\u001b[1;3mThe rise of serverless computing, where the cloud provider dynamically manages the allocation of machine resources, is changing the economics of big data processing. Serverless offerings like AWS Lambda, Azure Functions, and Google Cloud Functions enable a more fine-grained and cost-effective model for processing data. Machine Learning Integration: Machine learning is a broad and rapidly evolving field, full of specialized terminology. Here's a guide to 50 key machine learning terms, explained in simple language. 1. Algorithm. A step-by-step procedure or formula for solving a problem. In machine learning, algorithms are used to create models that can make predictions or decisions based ... You see, in the world of natural language processing (NLP) and machine learning, word embeddings are like the \"Rosetta Stone\" that helps machines convert words into numbers so they can make ... If you're new to this field, this tutorial will provide a comprehensive understanding of machine learning, its types, algorithms, tools, and practical applications. Module 1: Introduction to Machine Learning. Machine learning teaches computers to recognize patterns and make decisions automatically using data and algorithms. A higher TF-IDF score means the term is more important in that specific document. Why is TF-IDF Useful in This Example? 1. Identifying Important Terms: TF-IDF helps us understand that \"cat\" is somewhat important in Document 1 and Document 3 but irrelevant in Document 2. If we were building a search engine, this score would help rank Document 1 and Document 3 higher for a query like \"cat\".\u001b[0m\u001b[32;1m\u001b[1;3mI should look for a more specific source that mentions the word count in the introduction to machine learning.\n",
            "Action: duckduckgo_search\n",
            "Action Input: \"introduction to machine learning word count specific source\"\u001b[0m\u001b[36;1m\u001b[1;3mIf you're new to this field, this tutorial will provide a comprehensive understanding of machine learning, its types, algorithms, tools, and practical applications. Module 1: Introduction to Machine Learning. Machine learning teaches computers to recognize patterns and make decisions automatically using data and algorithms. This book introduces the mathematical foundations and techniques that lead to the development and analysis of many of the algorithms that are used in machine learning. It starts with an introductory chapter that describes notation used throughout the book and serve at a reminder of basic concepts in calculus, linear algebra and probability and also introduces some measure theoretic terminology ... A Classic Example: Word Count. ... Google's publication of the MapReduce paper in 2004 sparked a flurry of activity in the open-source community. In 2006, Apache Hadoop was born, becoming the most widely used open-source implementation of MapReduce. ... Machine Learning Integration: As machine learning becomes increasingly central to ... The word Machine Learning was first coined by Arthur Samuel in 1959. The definition of machine learning can be defined as that machine learning gives computers the ability to learn without being explicitly programmed. Also in 1997, Tom Mitchell defined machine learning that â€œA computer program is sa Machine Learning is concerned with computer programs that automatically improve their performance through experience (e.g., programs that learn to recognize human faces, recommend music and movies, and drive autonomous robots). This course covers the theory and practical algorithms for machine learning from a variety of perspectives.\u001b[0m\u001b[32;1m\u001b[1;3mI should try to find a specific source that mentions the word count in the introduction to machine learning.\n",
            "Action: duckduckgo_search\n",
            "Action Input: \"introduction to machine learning word count specific source book\"\u001b[0m\u001b[36;1m\u001b[1;3mSome of the best machine learning books for beginners include \"Python Machine Learning\" by Sebastian Raschka, \"Fundamentals of Machine Learning for Predictive Data Analytics\" by John D. Kelleher, Brian Mac Namee, and Aoife D'Arcy, and \"Data Mining: Practical Machine Learning Tools and Techniques\" by Ian H. Witten, Eibe Frank, Mark A. Hall and Christopher J. Pal. This book introduces the mathematical foundations and techniques that lead to the development and analysis of many of the algorithms that are used in machine learning. It starts with an introductory chapter that describes notation used throughout the book and serve at a reminder of basic concepts in calculus, linear algebra and probability and also introduces some measure theoretic terminology ... 8. Machine Learning For Beginners By Chris Sebastian. It was published in 2018. This book begins with the history of Machine Learning. It describes the relationship between artificial intelligence and machine learning and also the role of neural networks, big data, regression, etc. in machine learning. The Hundred-Page Machine Learning Book - Andriy Burkov ; This book presents a solid introduction to machine learning in just a hundred pages. The book not just provides an understanding of machine learning concepts but also delves into the different types of it, such as supervised learning, unsupervised learning, and reinforcement learning.. Exclusive Topics covered: 2. The Hundred-Page Machine Learning Book. The Hundred-Page Machine Learning Book by Andriy Burkov serves as an impressive introduction to the world of machine learning. One of the key highlights of the book is the simple explanation of artificial intelligence systems, which is easily comprehensible for beginners. It is one of the most ...\u001b[0m\u001b[32;1m\u001b[1;3mI should summarize the information I found to determine the word count in the introduction to machine learning.\n",
            "Final Answer: The word count in the introduction to machine learning can vary depending on the source, but typically it contains a comprehensive overview of the field, its types, algorithms, tools, and practical applications.\u001b[0m\n",
            "\n",
            "\u001b[1m> Finished chain.\u001b[0m\n",
            "The word count in the introduction to machine learning can vary depending on the source, but typically it contains a comprehensive overview of the field, its types, algorithms, tools, and practical applications.\n"
          ]
        }
      ]
    },
    {
      "cell_type": "markdown",
      "source": [
        "#Define Custom tool\n"
      ],
      "metadata": {
        "id": "icBbPBBgTmNc"
      }
    },
    {
      "cell_type": "code",
      "source": [
        "from langchain.agents import tool\n",
        "\n",
        "@tool\n",
        "def word_count(text: str) -> int:\n",
        "  \"\"\"Returns the word count.\"\"\"\n",
        "  return len(text.split())"
      ],
      "metadata": {
        "id": "q-kZSdleTpgm"
      },
      "execution_count": 11,
      "outputs": []
    },
    {
      "cell_type": "code",
      "source": [
        "# Add the custom tool to the list of tools\n",
        "tools.append(word_count)\n",
        "\n",
        "print(tools)"
      ],
      "metadata": {
        "colab": {
          "base_uri": "https://localhost:8080/"
        },
        "id": "8wsglhK5TxV9",
        "outputId": "8a3a70a9-5d74-4942-bcae-97b201cc6904"
      },
      "execution_count": 12,
      "outputs": [
        {
          "output_type": "stream",
          "name": "stdout",
          "text": [
            "[DuckDuckGoSearchRun(api_wrapper=DuckDuckGoSearchAPIWrapper(region='wt-wt', safesearch='moderate', time='y', max_results=5, backend='auto', source='text')), OpenWeatherMapQueryRun(api_wrapper=OpenWeatherMapAPIWrapper(owm=<pyowm.owm.OWM - API key=************************71a69bbe, subscription type=free, PyOWM version=(3, 3, 0)>, openweathermap_api_key=None)), StructuredTool(name='word_count', description='Returns the word count.', args_schema=<class 'langchain_core.utils.pydantic.word_count'>, func=<function word_count at 0x79ebc4103560>)]\n"
          ]
        }
      ]
    },
    {
      "cell_type": "code",
      "source": [
        "# Create a new agent with the DuckDuckGo search tool, OpenWeatherMap tool  and custom word count tool\n",
        "agent = create_react_agent(tools = tools, llm = llm, prompt=prompt)\n",
        "\n",
        "# Initialize the agent executor with the new agent and tools\n",
        "agent_executor = AgentExecutor(agent=agent, tools=tools, verbose=True, handle_parsing_errors=True)"
      ],
      "metadata": {
        "id": "DELNKk-QUZdH"
      },
      "execution_count": 13,
      "outputs": []
    },
    {
      "cell_type": "markdown",
      "source": [
        "#Invoke the custom agent executor with example questions"
      ],
      "metadata": {
        "id": "m5QfXR_DUoMP"
      }
    },
    {
      "cell_type": "code",
      "source": [
        "response = agent_executor.invoke({\"input\": \"what is machine learning?\"})\n",
        "\n",
        "print(response['output'])"
      ],
      "metadata": {
        "colab": {
          "base_uri": "https://localhost:8080/"
        },
        "id": "0PFECuuEUpge",
        "outputId": "a0006014-56f7-4505-e881-6f535db93ffc"
      },
      "execution_count": 14,
      "outputs": [
        {
          "output_type": "stream",
          "name": "stdout",
          "text": [
            "\n",
            "\n",
            "\u001b[1m> Entering new AgentExecutor chain...\u001b[0m\n",
            "\u001b[32;1m\u001b[1;3mI should search for a definition of machine learning to provide an accurate answer.\n",
            "Action: duckduckgo_search\n",
            "Action Input: \"definition of machine learning\"\u001b[0m\u001b[36;1m\u001b[1;3mMachine learning is a crucial subset of artificial intelligence that enables algorithms to learn from data, make predictions, ... The definition of machine learning can be defined as that machine learning gives computers the ability to learn without being explicitly programmed. Also in 1997, Tom Mitchell defined machine learning that â€œA ... Machine learning is a subfield of AI that uses algorithms trained on data sets to create self-learning models. Learn about the different types of machine learning, how they work, and their applications in the real world. Learn what machine learning is, how it works, and why it's important in 2023. Explore the types, applications, and career paths of this AI subfield with DataCamp. The word Machine Learning was first coined by Arthur Samuel in 1959. The definition of machine learning can be defined as that machine learning gives computers the ability to learn without being explicitly programmed. Also in 1997, Tom Mitchell defined machine learning that â€œA computer program is sa Machine learning, a subset of Artificial Intelligence, enables computers to learn from data and make predictions through various techniques such as supervised, unsupervised, and reinforcement learning, along with essential steps for model training, deployment, and operationalization.\u001b[0m\u001b[32;1m\u001b[1;3mI now have a good understanding of what machine learning is.\n",
            "Final Answer: Machine learning is a subset of artificial intelligence that enables computers to learn from data and make predictions without being explicitly programmed.\u001b[0m\n",
            "\n",
            "\u001b[1m> Finished chain.\u001b[0m\n",
            "Machine learning is a subset of artificial intelligence that enables computers to learn from data and make predictions without being explicitly programmed.\n"
          ]
        }
      ]
    },
    {
      "cell_type": "code",
      "source": [
        "response = agent_executor.invoke({\"input\": \"how many words count within introduction to machine learning?\"})\n",
        "\n",
        "print(response['output'])\n",
        ""
      ],
      "metadata": {
        "colab": {
          "base_uri": "https://localhost:8080/"
        },
        "id": "3UhE_KjPUt-E",
        "outputId": "48f8386b-2573-40b7-decb-50776dd7468b"
      },
      "execution_count": 15,
      "outputs": [
        {
          "output_type": "stream",
          "name": "stdout",
          "text": [
            "\n",
            "\n",
            "\u001b[1m> Entering new AgentExecutor chain...\u001b[0m\n",
            "\u001b[32;1m\u001b[1;3mI should use the word_count function to find the number of words in the text.\n",
            "Action: word_count\n",
            "Action Input: \"introduction to machine learning\"\u001b[0m\u001b[38;5;200m\u001b[1;3m4\u001b[0m\u001b[32;1m\u001b[1;3mI now know the final answer\n",
            "Final Answer: 4\u001b[0m\n",
            "\n",
            "\u001b[1m> Finished chain.\u001b[0m\n",
            "4\n"
          ]
        }
      ]
    },
    {
      "cell_type": "code",
      "source": [
        "response = agent_executor.invoke({\"input\": \"what is the temperature of the city where 'lotus tower' is located?\"})\n",
        "\n",
        "print(response['output'])"
      ],
      "metadata": {
        "colab": {
          "base_uri": "https://localhost:8080/"
        },
        "id": "miIUYFgOVQ6u",
        "outputId": "5b350a5e-af12-401a-d08f-651cae607d03"
      },
      "execution_count": 16,
      "outputs": [
        {
          "output_type": "stream",
          "name": "stdout",
          "text": [
            "\n",
            "\n",
            "\u001b[1m> Entering new AgentExecutor chain...\u001b[0m\n",
            "\u001b[32;1m\u001b[1;3mI need to find the location of the Lotus Tower first before I can get the temperature.\n",
            "Action: duckduckgo_search\n",
            "Action Input: Lotus Tower location\u001b[0m\u001b[36;1m\u001b[1;3mAbout. The Colombo Lotus Tower serves as Sri Lanka's tallest structure which symbolizes both modernity and cultural pride. The Sinhala nickname for this monumental building is Nelum Kuluna (which translates to \"Lotus Stupa\"). This tower stands as the 11th tallest autonomous structure in South Asia while holding 19th position globally at 351.5 meters (1,153 feet). Location. The exact location is- Lotus Tower, AC6, DR Wijaywardane (MCCallum) Road, next to Postal Department Head Office, Colombo, Sri Lanka. Best time to visit. You can visit to the Lotus Tower any day any time. If you want to book the banquet of the meeting hall, do it during the day. The pink glasses make the hall look pink and are a ... The Colombo Lotus Tower, standing tall at 356 meters (1,168 feet), is a remarkable symbol of Sri Lanka's aspirations, blending cultural significance with modern engineering. Officially inaugurated in September 2019, this iconic structure is the tallest self-supported tower in South Asia, representing the nation's technological advancements ... The tallest skyscraper of Sri Lanka - Colombo Lotus tower is also known as \"Nelum Kuluna\" in Sinhala. Colombo lotus tower is one of the most famous tourist sites in the town of Colombo, Sri Lanka. Standing at a height of 356 meters and this is the tallest tower in South Asia, 11th tallest tower in Asia and 19th tallest tower in the world. As of May 2017, the tallest structure on the island is the Lotus Tower at 350 m (1,150 ft), and the tallest habitable building is the Altair at 240 m (790 ft). [1] Tallest structures ... Location Height (metres) Height (feet) Year Co-ordinates Notes Ref. Self-supporting structure: Lotus Tower:\u001b[0m\u001b[32;1m\u001b[1;3mNow that I have the location of the Lotus Tower, I can get the temperature.\n",
            "Action: open_weather_map\n",
            "Action Input: Colombo, Sri Lanka\u001b[0m\u001b[33;1m\u001b[1;3mIn Colombo, Sri Lanka, the current weather is as follows:\n",
            "Detailed status: few clouds\n",
            "Wind speed: 3.51 m/s, direction: 232°\n",
            "Humidity: 73%\n",
            "Temperature: \n",
            "  - Current: 31.97°C\n",
            "  - High: 31.97°C\n",
            "  - Low: 31.97°C\n",
            "  - Feels like: 38.97°C\n",
            "Rain: {}\n",
            "Heat index: None\n",
            "Cloud cover: 21%\u001b[0m\u001b[32;1m\u001b[1;3mI now know the temperature of the city where the Lotus Tower is located.\n",
            "Final Answer: The temperature in Colombo, Sri Lanka, where the Lotus Tower is located, is 31.97°C.\u001b[0m\n",
            "\n",
            "\u001b[1m> Finished chain.\u001b[0m\n",
            "The temperature in Colombo, Sri Lanka, where the Lotus Tower is located, is 31.97°C.\n"
          ]
        }
      ]
    }
  ]
}